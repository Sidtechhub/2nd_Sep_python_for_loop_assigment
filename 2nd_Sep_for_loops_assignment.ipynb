{
 "cells": [
  {
   "cell_type": "code",
   "execution_count": null,
   "id": "57fb7349-19ff-4f58-a85d-6937226dcce8",
   "metadata": {},
   "outputs": [],
   "source": [
    "# 1. Write a Python program to print the numbers from 1 to 10 using a `for` loop."
   ]
  },
  {
   "cell_type": "code",
   "execution_count": 4,
   "id": "f4c027d8-0d43-4d41-9786-d5b1140f3bdd",
   "metadata": {},
   "outputs": [
    {
     "name": "stdout",
     "output_type": "stream",
     "text": [
      "1\n",
      "2\n",
      "3\n",
      "4\n",
      "5\n",
      "6\n",
      "7\n",
      "8\n",
      "9\n",
      "10\n"
     ]
    }
   ],
   "source": [
    "for i in range(1,11):\n",
    "    print(i)"
   ]
  },
  {
   "cell_type": "code",
   "execution_count": 5,
   "id": "945c641d-ed10-4cca-9e0b-3d756ede77f5",
   "metadata": {},
   "outputs": [],
   "source": [
    "# 2. Create a program that calculates the sum of all numbers in a list using a `for` loop."
   ]
  },
  {
   "cell_type": "code",
   "execution_count": 6,
   "id": "7fa63fbe-90fe-42c2-aaa3-ebc3f558cb18",
   "metadata": {},
   "outputs": [
    {
     "name": "stdout",
     "output_type": "stream",
     "text": [
      "Sum of all elements in given list:  74\n"
     ]
    }
   ],
   "source": [
    "# Python program to find sum of elements in list\n",
    "\n",
    "total = 0\n",
    "\n",
    "# creating a list\n",
    "list1 = [11, 5, 17, 18, 23]\n",
    "\n",
    "# Iterate each element in list\n",
    "# and add them in variable total\n",
    "for ele in range(0, len(list1)):\n",
    "\ttotal = total + list1[ele]\n",
    "\n",
    "# printing total value\n",
    "print(\"Sum of all elements in given list: \", total)\n"
   ]
  },
  {
   "cell_type": "code",
   "execution_count": null,
   "id": "2ee9b34d-d452-4f2d-abd9-c14506cacdef",
   "metadata": {},
   "outputs": [],
   "source": []
  },
  {
   "cell_type": "code",
   "execution_count": 7,
   "id": "71af71ee-0a5e-430f-bd53-e54814404588",
   "metadata": {},
   "outputs": [],
   "source": [
    "# 3. Write a program to print the characters of a string in reverse order using a `for` loop."
   ]
  },
  {
   "cell_type": "code",
   "execution_count": 8,
   "id": "a4f6e310-0775-4fb5-a32d-0ad20b29cc3d",
   "metadata": {},
   "outputs": [
    {
     "name": "stdout",
     "output_type": "stream",
     "text": [
      "drow"
     ]
    }
   ],
   "source": [
    "string=\"word\"\n",
    "for i in string[::-1]:\n",
    "    print(i,end=\"\")"
   ]
  },
  {
   "cell_type": "code",
   "execution_count": 9,
   "id": "f8136090-edfa-49a5-b974-03c712c13442",
   "metadata": {},
   "outputs": [],
   "source": [
    "# 4. Develop a program that finds the factorial of a given number using a `for` loop."
   ]
  },
  {
   "cell_type": "code",
   "execution_count": 10,
   "id": "c7bd5acf-1737-486a-b855-c5da7bcb2fb8",
   "metadata": {},
   "outputs": [
    {
     "name": "stdout",
     "output_type": "stream",
     "text": [
      "The factorial of 7 is 5040\n"
     ]
    }
   ],
   "source": [
    "# Python program to find the factorial of a number provided by the user.\n",
    "\n",
    "# change the value for a different result\n",
    "num = 7\n",
    "\n",
    "# To take input from the user\n",
    "#num = int(input(\"Enter a number: \"))\n",
    "\n",
    "factorial = 1\n",
    "\n",
    "# check if the number is negative, positive or zero\n",
    "if num < 0:\n",
    "    print(\"Sorry, factorial does not exist for negative numbers\")\n",
    "elif num == 0:\n",
    "    print(\"The factorial of 0 is 1\")\n",
    "else:\n",
    "    for i in range(1,num + 1):\n",
    "        factorial = factorial*i\n",
    "    print(\"The factorial of\",num,\"is\",factorial)\n"
   ]
  },
  {
   "cell_type": "code",
   "execution_count": null,
   "id": "07a69de8-c37a-47a4-8075-a8e2a15e4e59",
   "metadata": {},
   "outputs": [],
   "source": []
  },
  {
   "cell_type": "code",
   "execution_count": 11,
   "id": "78f4ae64-b4f1-46fa-9aef-fb86a76035b3",
   "metadata": {},
   "outputs": [],
   "source": [
    "# 5. Create a program to print the multiplication table of a given number using a `for` loop."
   ]
  },
  {
   "cell_type": "code",
   "execution_count": 12,
   "id": "74d33877-0b3a-4ac2-858e-33462024220a",
   "metadata": {},
   "outputs": [
    {
     "name": "stdin",
     "output_type": "stream",
     "text": [
      "Enter the number whose table you want : 5\n"
     ]
    },
    {
     "name": "stdout",
     "output_type": "stream",
     "text": [
      "5 X 1 = 5\n",
      "5 X 2 = 10\n",
      "5 X 3 = 15\n",
      "5 X 4 = 20\n",
      "5 X 5 = 25\n",
      "5 X 6 = 30\n",
      "5 X 7 = 35\n",
      "5 X 8 = 40\n",
      "5 X 9 = 45\n",
      "5 X 10 = 50\n"
     ]
    }
   ],
   "source": [
    "num=int(input(\"Enter the number whose table you want :\"))\n",
    "\n",
    "for i in range(1,11):\n",
    "    print(f\"{num} X {i} = {num*i}\")"
   ]
  },
  {
   "cell_type": "code",
   "execution_count": null,
   "id": "f3650d78-513f-43b4-950c-5752868177ce",
   "metadata": {},
   "outputs": [],
   "source": []
  },
  {
   "cell_type": "code",
   "execution_count": 13,
   "id": "237cbe8e-d182-4073-8f61-4fca0f6580fd",
   "metadata": {},
   "outputs": [],
   "source": [
    "# 6. Write a program that counts the number of even and odd numbers in a list using a `for` loop."
   ]
  },
  {
   "cell_type": "code",
   "execution_count": 14,
   "id": "80345846-8e8a-44a7-ad0c-1bd84c03de99",
   "metadata": {},
   "outputs": [
    {
     "name": "stdout",
     "output_type": "stream",
     "text": [
      "Even numbers in the list:  3\n",
      "Odd numbers in the list:  4\n"
     ]
    }
   ],
   "source": [
    "# Python program to count Even\n",
    "# and Odd numbers in a List\n",
    "\n",
    "# list of numbers\n",
    "list1 = [10, 21, 4, 45, 66, 93, 1]\n",
    "\n",
    "even_count, odd_count = 0, 0\n",
    "\n",
    "# iterating each number in list\n",
    "for num in list1:\n",
    "\n",
    "\t# checking condition\n",
    "\tif num % 2 == 0:\n",
    "\t\teven_count += 1\n",
    "\n",
    "\telse:\n",
    "\t\todd_count += 1\n",
    "\n",
    "print(\"Even numbers in the list: \", even_count)\n",
    "print(\"Odd numbers in the list: \", odd_count)\n"
   ]
  },
  {
   "cell_type": "code",
   "execution_count": null,
   "id": "70053292-ec75-440f-b1ad-2d70685c9e66",
   "metadata": {},
   "outputs": [],
   "source": []
  },
  {
   "cell_type": "code",
   "execution_count": null,
   "id": "8026fb39-3026-42c1-afea-6108db886b33",
   "metadata": {},
   "outputs": [],
   "source": []
  },
  {
   "cell_type": "code",
   "execution_count": 15,
   "id": "b4578f93-1184-4a28-9c38-c020e2d0e1a1",
   "metadata": {},
   "outputs": [],
   "source": [
    "# 7. Develop a program that prints the squares of numbers from 1 to 5 using a `for` loop."
   ]
  },
  {
   "cell_type": "code",
   "execution_count": 16,
   "id": "5f72ced4-2eb9-49c7-becf-cf3a2d0aa250",
   "metadata": {},
   "outputs": [
    {
     "name": "stdout",
     "output_type": "stream",
     "text": [
      "1\n",
      "4\n",
      "9\n",
      "16\n",
      "25\n"
     ]
    }
   ],
   "source": [
    "for i in range(1,6):\n",
    "    print(f\"{i*i}\")"
   ]
  },
  {
   "cell_type": "code",
   "execution_count": 17,
   "id": "29610e05-767e-4271-981b-6578436b52f4",
   "metadata": {},
   "outputs": [],
   "source": [
    "# 8. Create a program to find the length of a string without using the `len()` function."
   ]
  },
  {
   "cell_type": "code",
   "execution_count": 18,
   "id": "3098d1bc-1b7a-46a4-9498-3f43b55dce44",
   "metadata": {},
   "outputs": [
    {
     "name": "stdin",
     "output_type": "stream",
     "text": [
      "Enter a string:  I am going to Himalayas\n"
     ]
    },
    {
     "name": "stdout",
     "output_type": "stream",
     "text": [
      "Length of the input string is: 23\n"
     ]
    }
   ],
   "source": [
    "# User inputs the string and it gets stored in variable str\n",
    "str = input(\"Enter a string: \")\n",
    "\n",
    "# counter variable to count the character in a string\n",
    "counter = 0\n",
    "for s in str:\n",
    "      counter = counter+1\n",
    "print(\"Length of the input string is:\", counter)\n"
   ]
  },
  {
   "cell_type": "code",
   "execution_count": null,
   "id": "bd0dd58a-ad6d-44f0-b79a-2337afb02799",
   "metadata": {},
   "outputs": [],
   "source": []
  },
  {
   "cell_type": "code",
   "execution_count": 19,
   "id": "28225957-62ff-4f2e-a1f1-5d6bb20264b5",
   "metadata": {},
   "outputs": [],
   "source": [
    "# 9. Write a program that calculates the average of a list of numbers using a `for` loop."
   ]
  },
  {
   "cell_type": "code",
   "execution_count": 20,
   "id": "23f542a7-0c6e-4c4c-846b-5700b44c60a3",
   "metadata": {},
   "outputs": [
    {
     "name": "stdout",
     "output_type": "stream",
     "text": [
      "Average of the list = 35.75\n"
     ]
    }
   ],
   "source": [
    "# Python code to get average of list\n",
    "def Average(lst):\n",
    "\tsum_of_list = 0\n",
    "\tfor i in range(len(lst)):\n",
    "\t\tsum_of_list += lst[i]\n",
    "\taverage = sum_of_list/len(lst)\n",
    "\treturn average\n",
    "\n",
    "\n",
    "lst = [15, 9, 55, 41, 35, 20, 62, 49]\n",
    "average = Average(lst)\n",
    "print(\"Average of the list =\", round(average, 2))\n"
   ]
  },
  {
   "cell_type": "code",
   "execution_count": null,
   "id": "349be85b-1232-4a9b-8191-d84e97354f63",
   "metadata": {},
   "outputs": [],
   "source": []
  },
  {
   "cell_type": "code",
   "execution_count": null,
   "id": "68614c45-f947-49ec-8985-7de1b3acdd09",
   "metadata": {},
   "outputs": [],
   "source": []
  },
  {
   "cell_type": "code",
   "execution_count": null,
   "id": "84f7197e-6834-40b9-b5ef-aaf1ade8e5ad",
   "metadata": {},
   "outputs": [],
   "source": []
  },
  {
   "cell_type": "code",
   "execution_count": 21,
   "id": "8ce0c5a2-a2aa-407a-a02d-d37c0068d788",
   "metadata": {},
   "outputs": [],
   "source": [
    "# 10. Develop a program that prints the first `n` Fibonacci numbers using a `for` loop."
   ]
  },
  {
   "cell_type": "code",
   "execution_count": 22,
   "id": "d8367051-4d3e-4526-969f-919b2f19fb7d",
   "metadata": {},
   "outputs": [
    {
     "name": "stdin",
     "output_type": "stream",
     "text": [
      "Enter the terms 4\n"
     ]
    },
    {
     "name": "stdout",
     "output_type": "stream",
     "text": [
      "0 1 1 2 "
     ]
    }
   ],
   "source": [
    "# Enter number of terms needed                   #0,1,1,2,3,5....\n",
    "a=int(input(\"Enter the terms\"))\n",
    "f=0                                         #first element of series\n",
    "s=1                                         #second element of series\n",
    "if a<=0:\n",
    "    print(\"The requested series is\",f)\n",
    "else:\n",
    "    print(f,s,end=\" \")\n",
    "    for x in range(2,a):\n",
    "        next=f+s                           \n",
    "        print(next,end=\" \")\n",
    "        f=s\n",
    "        s=next"
   ]
  },
  {
   "cell_type": "code",
   "execution_count": null,
   "id": "1b6aa15e-9871-4eb8-9c5a-91b352623b69",
   "metadata": {},
   "outputs": [],
   "source": []
  },
  {
   "cell_type": "code",
   "execution_count": 23,
   "id": "7630921c-bf0e-474e-a45e-81b36749434d",
   "metadata": {},
   "outputs": [],
   "source": [
    "# 11. Write a program to check if a given list contains any duplicates using a `for` loop."
   ]
  },
  {
   "cell_type": "code",
   "execution_count": null,
   "id": "bdd23a1b-5688-4163-8795-be103405fd80",
   "metadata": {},
   "outputs": [],
   "source": [
    "   \n",
    "        "
   ]
  },
  {
   "cell_type": "code",
   "execution_count": null,
   "id": "ee861071-b0c9-4663-8d9f-af1b759a20aa",
   "metadata": {},
   "outputs": [],
   "source": []
  },
  {
   "cell_type": "code",
   "execution_count": 24,
   "id": "eb2802f5-da7c-462b-91ea-b5cb9b66d957",
   "metadata": {},
   "outputs": [],
   "source": [
    "# 12. Create a program that prints the prime numbers in a given range using a `for` loop."
   ]
  },
  {
   "cell_type": "code",
   "execution_count": 25,
   "id": "d5e62737-5843-4186-8418-7563e8b025bc",
   "metadata": {},
   "outputs": [
    {
     "name": "stdout",
     "output_type": "stream",
     "text": [
      "Prime numbers between 1 and 100 are:\n",
      "2\n",
      "3\n",
      "5\n",
      "7\n",
      "11\n",
      "13\n",
      "17\n",
      "19\n",
      "23\n",
      "29\n",
      "31\n",
      "37\n",
      "41\n",
      "43\n",
      "47\n",
      "53\n",
      "59\n",
      "61\n",
      "67\n",
      "71\n",
      "73\n",
      "79\n",
      "83\n",
      "89\n",
      "97\n"
     ]
    }
   ],
   "source": [
    "# Python program to display all the prime numbers within an interval\n",
    "\n",
    "lower = 1\n",
    "upper = 100\n",
    "\n",
    "print(\"Prime numbers between\", lower, \"and\", upper, \"are:\")\n",
    "\n",
    "for num in range(lower, upper + 1):\n",
    "   # all prime numbers are greater than 1\n",
    "   if num > 1:\n",
    "       for i in range(2, num):\n",
    "           if (num % i) == 0:\n",
    "               break\n",
    "       else:\n",
    "           print(num)"
   ]
  },
  {
   "cell_type": "code",
   "execution_count": null,
   "id": "4ebe788b-34c2-4500-b431-5c27732222a7",
   "metadata": {},
   "outputs": [],
   "source": []
  },
  {
   "cell_type": "code",
   "execution_count": 26,
   "id": "eef87382-e320-4d16-bb0c-0ead31ae88d7",
   "metadata": {},
   "outputs": [],
   "source": [
    "# 13. Develop a program that counts the number of vowels in a string using a `for` loop."
   ]
  },
  {
   "cell_type": "code",
   "execution_count": 28,
   "id": "e45260b3-5f6c-4935-b23e-00146bedb369",
   "metadata": {},
   "outputs": [
    {
     "name": "stdin",
     "output_type": "stream",
     "text": [
      "Enter string: Python oops is tough\n"
     ]
    },
    {
     "name": "stdout",
     "output_type": "stream",
     "text": [
      "Number of vowels are: 6\n"
     ]
    }
   ],
   "source": [
    "string=input(\"Enter string:\")\n",
    "vowels=0\n",
    "for i in string:\n",
    "      if(i=='a' or i=='e' or i=='i' or i=='o' or i=='u' or i=='A' or i=='E' or i=='I' or i=='O' or i=='U'):\n",
    "            vowels=vowels+1\n",
    "print(\"Number of vowels are:\",end=\" \")\n",
    "print(vowels)"
   ]
  },
  {
   "cell_type": "code",
   "execution_count": null,
   "id": "28b5b3ee-e72b-43a3-bd55-ecefa0e98067",
   "metadata": {},
   "outputs": [],
   "source": []
  },
  {
   "cell_type": "code",
   "execution_count": null,
   "id": "75eade38-2227-4f70-a09d-97eedccae116",
   "metadata": {},
   "outputs": [],
   "source": []
  },
  {
   "cell_type": "code",
   "execution_count": null,
   "id": "c8b575e3-dd52-423a-8d67-3ffa99d030d8",
   "metadata": {},
   "outputs": [],
   "source": []
  },
  {
   "cell_type": "code",
   "execution_count": 29,
   "id": "26cbc95b-682f-4068-bfa6-7a3888a5be8c",
   "metadata": {},
   "outputs": [],
   "source": [
    "# 14. Write a program to find the maximum element in a 2D list using a nested `for` loop."
   ]
  },
  {
   "cell_type": "code",
   "execution_count": 30,
   "id": "8b262b6e-3c22-4bd5-892d-3c6ba620f32a",
   "metadata": {},
   "outputs": [
    {
     "name": "stdout",
     "output_type": "stream",
     "text": [
      "99\n"
     ]
    }
   ],
   "source": [
    "l = [[1, 2, 32], [64, 95, 86], [70, 80, 99]]\n",
    "li=[]     \n",
    "for x in l:\n",
    "    for i in x:\n",
    "        li.append(i)\n",
    "        for num in li:\n",
    "            maximum=max(li)\n",
    "\n",
    "\n",
    "print(maximum)"
   ]
  },
  {
   "cell_type": "code",
   "execution_count": null,
   "id": "14a98980-1f6b-4c02-97a2-5c74d4be2b68",
   "metadata": {},
   "outputs": [],
   "source": []
  },
  {
   "cell_type": "code",
   "execution_count": 31,
   "id": "14ac0c89-32a6-4be6-8d22-c63391101f09",
   "metadata": {},
   "outputs": [],
   "source": [
    "# 15. Create a program that removes all occurrences of a specific element from a list using a `for` loop."
   ]
  },
  {
   "cell_type": "code",
   "execution_count": 32,
   "id": "566b853f-903f-4d12-9a22-211ee719094d",
   "metadata": {},
   "outputs": [
    {
     "name": "stdout",
     "output_type": "stream",
     "text": [
      "Original list:\n",
      "[10, 20, 10, 30, 10, 40, 10, 50]\n",
      "list after removing elements:\n",
      "[20, 30, 40, 50]\n"
     ]
    }
   ],
   "source": [
    "# list with integer elements\n",
    "lists = [10, 20, 10, 30, 10, 40, 10, 50]\n",
    "# number (n) to be removed\n",
    "n = 10\n",
    "\n",
    "# print original list \n",
    "print (\"Original list:\")\n",
    "print (lists)\n",
    "\n",
    "# loop to traverse each element in list\n",
    "# and, remove elements \n",
    "# which are equals to n\n",
    "for x in lists:\n",
    "    if x == n:\n",
    "        lists.remove(x)\n",
    "\n",
    "# print list after removing given element\n",
    "print (\"list after removing elements:\")\n",
    "print (lists)"
   ]
  },
  {
   "cell_type": "code",
   "execution_count": null,
   "id": "502ab085-098e-4498-b705-7776527364d0",
   "metadata": {},
   "outputs": [],
   "source": []
  },
  {
   "cell_type": "code",
   "execution_count": 33,
   "id": "ea71f6d6-b811-4f40-a962-e9c47ae4ffe8",
   "metadata": {},
   "outputs": [],
   "source": [
    "# 16. Develop a program that generates a multiplication table for numbers from 1 to 5 using a nested `for` loop."
   ]
  },
  {
   "cell_type": "code",
   "execution_count": 34,
   "id": "824c451c-e0d0-42ba-9e87-2efb8c2e84ca",
   "metadata": {},
   "outputs": [
    {
     "name": "stdout",
     "output_type": "stream",
     "text": [
      "1  X  1  =  1\n",
      "\n",
      "1  X  2  =  2\n",
      "\n",
      "1  X  3  =  3\n",
      "\n",
      "1  X  4  =  4\n",
      "\n",
      "1  X  5  =  5\n",
      "\n",
      "1  X  6  =  6\n",
      "\n",
      "1  X  7  =  7\n",
      "\n",
      "1  X  8  =  8\n",
      "\n",
      "1  X  9  =  9\n",
      "\n",
      "1  X  10  =  10\n",
      "\n",
      "2  X  1  =  2\n",
      "\n",
      "2  X  2  =  4\n",
      "\n",
      "2  X  3  =  6\n",
      "\n",
      "2  X  4  =  8\n",
      "\n",
      "2  X  5  =  10\n",
      "\n",
      "2  X  6  =  12\n",
      "\n",
      "2  X  7  =  14\n",
      "\n",
      "2  X  8  =  16\n",
      "\n",
      "2  X  9  =  18\n",
      "\n",
      "2  X  10  =  20\n",
      "\n",
      "3  X  1  =  3\n",
      "\n",
      "3  X  2  =  6\n",
      "\n",
      "3  X  3  =  9\n",
      "\n",
      "3  X  4  =  12\n",
      "\n",
      "3  X  5  =  15\n",
      "\n",
      "3  X  6  =  18\n",
      "\n",
      "3  X  7  =  21\n",
      "\n",
      "3  X  8  =  24\n",
      "\n",
      "3  X  9  =  27\n",
      "\n",
      "3  X  10  =  30\n",
      "\n",
      "4  X  1  =  4\n",
      "\n",
      "4  X  2  =  8\n",
      "\n",
      "4  X  3  =  12\n",
      "\n",
      "4  X  4  =  16\n",
      "\n",
      "4  X  5  =  20\n",
      "\n",
      "4  X  6  =  24\n",
      "\n",
      "4  X  7  =  28\n",
      "\n",
      "4  X  8  =  32\n",
      "\n",
      "4  X  9  =  36\n",
      "\n",
      "4  X  10  =  40\n",
      "\n",
      "5  X  1  =  5\n",
      "\n",
      "5  X  2  =  10\n",
      "\n",
      "5  X  3  =  15\n",
      "\n",
      "5  X  4  =  20\n",
      "\n",
      "5  X  5  =  25\n",
      "\n",
      "5  X  6  =  30\n",
      "\n",
      "5  X  7  =  35\n",
      "\n",
      "5  X  8  =  40\n",
      "\n",
      "5  X  9  =  45\n",
      "\n",
      "5  X  10  =  50\n",
      "\n"
     ]
    }
   ],
   "source": [
    "for i in range(1,6):\n",
    "    for j in range(1,11):\n",
    "        print(i,\" X \",j,\" = \",i*j)\n",
    "        print()\n",
    "\n"
   ]
  },
  {
   "cell_type": "code",
   "execution_count": null,
   "id": "4dd64605-4392-4c14-821a-d8d5f0e7e722",
   "metadata": {},
   "outputs": [],
   "source": []
  },
  {
   "cell_type": "code",
   "execution_count": 35,
   "id": "b417d663-da0e-477b-b031-5a466ca451f1",
   "metadata": {},
   "outputs": [],
   "source": [
    "# 17. Write a program that converts a list of Fahrenheit temperatures to Celsius using a `for` loop."
   ]
  },
  {
   "cell_type": "code",
   "execution_count": 36,
   "id": "9e2c964e-3423-4bba-839b-07575cca2566",
   "metadata": {},
   "outputs": [
    {
     "name": "stdout",
     "output_type": "stream",
     "text": [
      "[148.88888888888889, 37.77777777777778, 93.33333333333334]\n"
     ]
    }
   ],
   "source": [
    "fahrenheit=[300,100,200]\n",
    "celcius=[]\n",
    "for f in fahrenheit:\n",
    "        c=((5/9)* (f-32))\n",
    "        celcius.append(c)\n",
    "print(celcius)\n",
    "   "
   ]
  },
  {
   "cell_type": "code",
   "execution_count": null,
   "id": "e29ed612-d6c4-4a88-a1b0-031ea5520886",
   "metadata": {},
   "outputs": [],
   "source": []
  },
  {
   "cell_type": "code",
   "execution_count": 37,
   "id": "b6619c0b-846d-4a41-a441-84a294486247",
   "metadata": {},
   "outputs": [],
   "source": [
    "# 18. Create a program to print the common elements from two lists using a `for` loop."
   ]
  },
  {
   "cell_type": "code",
   "execution_count": 38,
   "id": "61d0a27b-1766-4e48-8a6d-d5af63661f35",
   "metadata": {},
   "outputs": [
    {
     "name": "stdout",
     "output_type": "stream",
     "text": [
      "this\n",
      "is\n",
      "for\n"
     ]
    }
   ],
   "source": [
    "l1=[\"this\",\"is\",\"tit\",\"for\",\"tat\"]\n",
    "l2=[\"this\",\"is\",\"good\",\"for\",\"god's \",\"sake\"]\n",
    "for a in l1:\n",
    "    if a in l2:\n",
    "        print(a)"
   ]
  },
  {
   "cell_type": "code",
   "execution_count": null,
   "id": "86983c5e-4a81-4967-b3fc-1d7a55cd1d2e",
   "metadata": {},
   "outputs": [],
   "source": []
  },
  {
   "cell_type": "code",
   "execution_count": 39,
   "id": "a34f07e6-9e66-4572-a4c0-fa2fa577a73f",
   "metadata": {},
   "outputs": [],
   "source": [
    "# 19. Develop a program that prints the pattern of right-angled triangles using a `for` loop. Use ‘*’ to draw the pattern"
   ]
  },
  {
   "cell_type": "code",
   "execution_count": 40,
   "id": "2b9211c3-f228-47a8-b017-698394478792",
   "metadata": {},
   "outputs": [
    {
     "name": "stdout",
     "output_type": "stream",
     "text": [
      "* \n",
      "* * \n",
      "* * * \n",
      "* * * * \n",
      "* * * * * \n",
      "* * * * * * \n",
      "* * * * * * * \n",
      "* * * * * * * * \n",
      "* * * * * * * * * \n"
     ]
    }
   ],
   "source": [
    "# star_pattern=\"*\"\n",
    "# for star_pattern in range(1,5):\n",
    "#     print(star_pattern)\n",
    "op=\"*\"\n",
    "for i in range(1,10):\n",
    "    print(i*\"* \")\n"
   ]
  },
  {
   "cell_type": "code",
   "execution_count": null,
   "id": "9025cd3c-2f00-4a5a-ac32-95c3565cab42",
   "metadata": {},
   "outputs": [],
   "source": []
  },
  {
   "cell_type": "code",
   "execution_count": 41,
   "id": "656893a6-e4ac-4790-bc9e-669e538d5e85",
   "metadata": {},
   "outputs": [],
   "source": [
    "# 20. Write a program to find the greatest common divisor (GCD) of two numbers using a `for` loop."
   ]
  },
  {
   "cell_type": "code",
   "execution_count": 42,
   "id": "69cc5ced-0d0e-446b-b9b5-96b86664d3b3",
   "metadata": {},
   "outputs": [
    {
     "name": "stdout",
     "output_type": "stream",
     "text": [
      "GCD of 36 and 60 is 12\n"
     ]
    }
   ],
   "source": [
    "num1 = 36\n",
    "num2 = 60\n",
    "gcd = 1\n",
    "\n",
    "for i in range(1, min(num1, num2)):\n",
    "    if num1 % i == 0 and num2 % i == 0:\n",
    "        gcd = i\n",
    "print(\"GCD of\", num1, \"and\", num2, \"is\", gcd)"
   ]
  },
  {
   "cell_type": "code",
   "execution_count": null,
   "id": "a84e9204-66b8-48a1-bda1-35fe62898842",
   "metadata": {},
   "outputs": [],
   "source": []
  },
  {
   "cell_type": "code",
   "execution_count": 43,
   "id": "73b3ad14-67f4-4715-9696-fe2403445a09",
   "metadata": {},
   "outputs": [],
   "source": [
    "# 21. Create a program that calculates the sum of the digits of numbers in a list using a list comprehension."
   ]
  },
  {
   "cell_type": "code",
   "execution_count": 44,
   "id": "db4a59dc-7a0b-4236-a05a-41486377a8f2",
   "metadata": {},
   "outputs": [
    {
     "name": "stdout",
     "output_type": "stream",
     "text": [
      "15\n"
     ]
    }
   ],
   "source": [
    "num=[1,2,3,4,5]\n",
    "sums=[x for x in num]\n",
    "print(sum(sums) )"
   ]
  },
  {
   "cell_type": "code",
   "execution_count": null,
   "id": "d0c7a9bc-c17e-4ba0-a5d4-e4a064f3f938",
   "metadata": {},
   "outputs": [],
   "source": []
  },
  {
   "cell_type": "code",
   "execution_count": 45,
   "id": "fb6c326d-eb30-424b-86cb-42fef3c2a85f",
   "metadata": {},
   "outputs": [],
   "source": [
    "# 22. Write a program to find the prime factors of a given number using a `for` loop and list comprehension."
   ]
  },
  {
   "cell_type": "code",
   "execution_count": 46,
   "id": "3954f1cb-cab9-4ef7-a238-68ab02cd8165",
   "metadata": {},
   "outputs": [
    {
     "name": "stdout",
     "output_type": "stream",
     "text": [
      "3 7 "
     ]
    }
   ],
   "source": [
    "def primeFactors(n):\n",
    "    spf = [0 for i in range(n+1)]\n",
    "    spf[1] = 1\n",
    "    for i in range(2, n+1):\n",
    "        spf[i] = i\n",
    "    for i in range(4, n+1, 2):\n",
    "        spf[i] = 2\n",
    "  \n",
    "    for i in range(3, int(n**0.5)+1):\n",
    "        if spf[i] == i:\n",
    "            for j in range(i*i, n+1, i):\n",
    "                if spf[j] == j:\n",
    "                    spf[j] = i\n",
    "                      \n",
    "    while n != 1:\n",
    "        print(spf[n], end=\" \")\n",
    "        n = n // spf[n]\n",
    "n= 21\n",
    "primeFactors(n)"
   ]
  },
  {
   "cell_type": "code",
   "execution_count": null,
   "id": "983b2b0e-ca61-4259-b25e-79f4678e432b",
   "metadata": {},
   "outputs": [],
   "source": []
  },
  {
   "cell_type": "code",
   "execution_count": 47,
   "id": "2252c1a2-cdb8-4907-b358-0d2e6588cf61",
   "metadata": {},
   "outputs": [],
   "source": [
    "# 23. Develop a program that extracts unique elements from a list and stores them in a new list using a list comprehension."
   ]
  },
  {
   "cell_type": "code",
   "execution_count": 48,
   "id": "5dc62ea4-e6a9-4064-91db-17dbc78bd695",
   "metadata": {},
   "outputs": [
    {
     "name": "stdout",
     "output_type": "stream",
     "text": [
      "[1, 2, 3, 4, 5, 56, 444, 4444, 4555]\n"
     ]
    }
   ],
   "source": [
    "a=[1,2,3,5,1,2,2,4,56,56,56,444,4444,4555]\n",
    "new_a={x for x in a }\n",
    "new_a=list(new_a)\n",
    "new_a.sort()\n",
    "print(new_a)"
   ]
  },
  {
   "cell_type": "code",
   "execution_count": 63,
   "id": "ce8d1f54-5acd-4625-a4fe-e0135e48d2b9",
   "metadata": {},
   "outputs": [],
   "source": [
    "# 24. Create a program that generates a list of all palindromic numbers up to a specified limit using a list comprehension."
   ]
  },
  {
   "cell_type": "code",
   "execution_count": 7,
   "id": "97b66ef6-cf56-4794-b431-efdbf9231dca",
   "metadata": {},
   "outputs": [
    {
     "name": "stdout",
     "output_type": "stream",
     "text": [
      "[101, 111, 121, 131, 141, 151, 161, 171, 181, 191, 202, 212, 222, 232, 242, 252, 262, 272, 282, 292, 303, 313, 323, 333, 343, 353, 363, 373, 383, 393]\n"
     ]
    }
   ],
   "source": [
    "pallindromic_num=[x for x in range(100,400) if str(x)==str(x)[::-1]]\n",
    "print(pallindromic_num )"
   ]
  },
  {
   "cell_type": "code",
   "execution_count": null,
   "id": "28b09fe1-d214-40e1-862a-587af1d81f73",
   "metadata": {},
   "outputs": [],
   "source": []
  },
  {
   "cell_type": "code",
   "execution_count": 73,
   "id": "c8a643ab-df95-4312-80b8-74571e577224",
   "metadata": {},
   "outputs": [],
   "source": [
    "# 25. Write a program to flatten a nested list using list comprehension."
   ]
  },
  {
   "cell_type": "code",
   "execution_count": 74,
   "id": "9642049a-3402-4f34-bd8c-fa7a64938515",
   "metadata": {},
   "outputs": [
    {
     "name": "stdout",
     "output_type": "stream",
     "text": [
      "List [[11, 22, 33, 44], [55, 66, 77], [88, 99, 100]]\n",
      "Flat List [11, 22, 33, 44, 55, 66, 77, 88, 99, 100]\n"
     ]
    }
   ],
   "source": [
    "lis = [[11, 22, 33, 44], [55, 66, 77], [88, 99, 100]]\n",
    " \n",
    "# iterate through the sublist using List comprehension\n",
    "flatList = [element for innerList in lis for element in innerList]\n",
    " \n",
    "# printing original list\n",
    "print('List', lis)\n",
    "# printing flat list\n",
    "print('Flat List', flatList)"
   ]
  },
  {
   "cell_type": "code",
   "execution_count": null,
   "id": "72dcead2-d911-4937-94cf-36ed65b1ac1a",
   "metadata": {},
   "outputs": [],
   "source": []
  },
  {
   "cell_type": "code",
   "execution_count": null,
   "id": "75ea4f3e-f243-4d19-a160-5983dcf62afc",
   "metadata": {},
   "outputs": [],
   "source": []
  },
  {
   "cell_type": "code",
   "execution_count": 75,
   "id": "31de891f-f936-4fde-aee0-8587b78a0d62",
   "metadata": {},
   "outputs": [],
   "source": [
    "# 26. Develop a program that computes the sum of even and odd numbers in a list separately using list comprehension"
   ]
  },
  {
   "cell_type": "code",
   "execution_count": 76,
   "id": "2854dac7-1e2e-4149-8557-6d757631f7ea",
   "metadata": {},
   "outputs": [
    {
     "name": "stdout",
     "output_type": "stream",
     "text": [
      "Sum of even numbers in list is 12\n",
      "Sum of odd numbers in list is 9\n"
     ]
    }
   ],
   "source": [
    "lists=[1,2,3,4,5,6]\n",
    "even_list=[i for i in lists if i%2==0]\n",
    "odd_list=[i for i in lists if i%2!=0]\n",
    "even_sum=sum(even_list)\n",
    "odd_sum=sum(odd_list)\n",
    "print(\"Sum of even numbers in list is\",even_sum)\n",
    "print(\"Sum of odd numbers in list is\",odd_sum)"
   ]
  },
  {
   "cell_type": "code",
   "execution_count": null,
   "id": "b95f6e07-bd11-4a9b-9167-897c8d577b14",
   "metadata": {},
   "outputs": [],
   "source": []
  },
  {
   "cell_type": "code",
   "execution_count": 77,
   "id": "436b6ae7-b115-47d3-842c-f401c438d8f6",
   "metadata": {},
   "outputs": [],
   "source": [
    "# 27. Create a program that generates a list of squares of odd numbers between 1 and 10 using list comprehension."
   ]
  },
  {
   "cell_type": "code",
   "execution_count": 78,
   "id": "9aa587d4-4332-4f9a-90ac-12893fe25c9a",
   "metadata": {},
   "outputs": [
    {
     "name": "stdout",
     "output_type": "stream",
     "text": [
      "[1, 9, 25, 49, 81]\n"
     ]
    }
   ],
   "source": [
    "sq_odd=[i**2 for i in range(1,10) if i%2!=0]\n",
    "print(sq_odd)"
   ]
  },
  {
   "cell_type": "code",
   "execution_count": null,
   "id": "42fc68d7-dfc2-4a41-b798-742f0fda70ed",
   "metadata": {},
   "outputs": [],
   "source": []
  },
  {
   "cell_type": "code",
   "execution_count": null,
   "id": "78d57721-09f2-423b-a7c8-9afb9bd778b4",
   "metadata": {},
   "outputs": [],
   "source": []
  },
  {
   "cell_type": "code",
   "execution_count": 79,
   "id": "3d2f7377-bcd7-4dc0-b3d4-07cbb7241f6d",
   "metadata": {},
   "outputs": [],
   "source": [
    "# 28. Write a program that combines two lists into a dictionary using list comprehension."
   ]
  },
  {
   "cell_type": "code",
   "execution_count": 80,
   "id": "a26da30e-294b-4f15-a816-2249e3d1d983",
   "metadata": {},
   "outputs": [
    {
     "name": "stdout",
     "output_type": "stream",
     "text": [
      "{1: 'python', 2: 'c', 3: 'c++'}\n"
     ]
    }
   ],
   "source": [
    "index = [1, 2, 3]\n",
    "languages = ['python', 'c', 'c++']\n",
    "\n",
    "dictionary = {k: v for k, v in zip(index, languages)}\n",
    "print(dictionary)"
   ]
  },
  {
   "cell_type": "code",
   "execution_count": null,
   "id": "86b14791-7601-4137-84f6-c2b225e03f62",
   "metadata": {},
   "outputs": [],
   "source": []
  },
  {
   "cell_type": "code",
   "execution_count": 81,
   "id": "5bf5e115-3d0d-4f6f-a237-e03c68ca51b2",
   "metadata": {},
   "outputs": [],
   "source": [
    "# 29. Develop a program that extracts the vowels from a string and stores them in a list using list comprehension."
   ]
  },
  {
   "cell_type": "code",
   "execution_count": 84,
   "id": "e1223662-1761-49c0-86d2-c502404d0688",
   "metadata": {},
   "outputs": [
    {
     "name": "stdin",
     "output_type": "stream",
     "text": [
      "Enter text:  meditation in himalayas\n"
     ]
    },
    {
     "name": "stdout",
     "output_type": "stream",
     "text": [
      "['e', 'i', 'a', 'i', 'o', 'i', 'i', 'a', 'a', 'a']\n"
     ]
    }
   ],
   "source": [
    "text = input('Enter text: ')\n",
    "vowel_list = [char for char in text if char.lower() in \"aeiou\"]\n",
    "print(vowel_list)  "
   ]
  },
  {
   "cell_type": "code",
   "execution_count": null,
   "id": "9323f4bf-2f66-49b9-bba5-5f535aa8def4",
   "metadata": {},
   "outputs": [],
   "source": []
  },
  {
   "cell_type": "code",
   "execution_count": 85,
   "id": "92274900-66e8-463f-ae53-ab20cbd1a4a2",
   "metadata": {},
   "outputs": [],
   "source": [
    "# 30. Create a program that removes all non-numeric characters from a list of strings using list comprehension."
   ]
  },
  {
   "cell_type": "code",
   "execution_count": 86,
   "id": "9118af10-dbee-4a9f-ae86-a32dbe606276",
   "metadata": {},
   "outputs": [
    {
     "name": "stdout",
     "output_type": "stream",
     "text": [
      "['88', '91', '86', '87', '87']\n"
     ]
    }
   ],
   "source": [
    "import re\n",
    "my_list = ['oops 88 $', 'animal 91 #', 'python 86 &', 'c++ 87 !', 'c 87 *']\n",
    "regex = re.compile(r'\\b\\d\\d\\b')\n",
    "my_list = [regex.search(i).group() for i in my_list]\n",
    "print(my_list)"
   ]
  },
  {
   "cell_type": "code",
   "execution_count": 87,
   "id": "1be22862-7c39-481b-b0d6-9d2b8bf2e309",
   "metadata": {},
   "outputs": [],
   "source": [
    "# 31. Write a program to generate a list of prime numbers using the Sieve of Eratosthenes algorithm and list\n",
    "# comprehension"
   ]
  },
  {
   "cell_type": "code",
   "execution_count": 88,
   "id": "c9291ca6-2fc5-4485-b6bc-bbc0a85eddb8",
   "metadata": {},
   "outputs": [
    {
     "name": "stdin",
     "output_type": "stream",
     "text": [
      "Compute primes up to what number?  25\n"
     ]
    },
    {
     "name": "stdout",
     "output_type": "stream",
     "text": [
      "[2, 3, 5, 7, 11, 13, 17, 19, 23]\n"
     ]
    }
   ],
   "source": [
    "list = [i for i in range(2, int(input(\"Compute primes up to what number? \"))+1)]  \n",
    "\n",
    "for i in list:\n",
    "    for a in list:\n",
    "            if a!=i and a%i == 0:\n",
    "                list.remove(a)\n",
    "print(list)"
   ]
  },
  {
   "cell_type": "code",
   "execution_count": null,
   "id": "bc9e9ab4-1ca1-48d3-b750-54124e95e8a1",
   "metadata": {},
   "outputs": [],
   "source": []
  },
  {
   "cell_type": "code",
   "execution_count": 89,
   "id": "68756d01-dfd4-4735-8a25-4253c9aca307",
   "metadata": {},
   "outputs": [],
   "source": [
    "# 32. Create a program that generates a list of all Pythagorean triplets up to a specified limit using list comprehension."
   ]
  },
  {
   "cell_type": "code",
   "execution_count": null,
   "id": "ab3ffac8-6cb8-4d70-925b-85a78a614ffe",
   "metadata": {},
   "outputs": [],
   "source": []
  },
  {
   "cell_type": "code",
   "execution_count": 90,
   "id": "45506c4b-edee-40ca-945f-549560c10b79",
   "metadata": {},
   "outputs": [
    {
     "name": "stdin",
     "output_type": "stream",
     "text": [
      "Enter the upper limit :  26\n"
     ]
    },
    {
     "name": "stdout",
     "output_type": "stream",
     "text": [
      "[(3, 4, 5), (4, 3, 5), (5, 12, 13), (6, 8, 10), (7, 24, 25), (8, 6, 10), (8, 15, 17), (9, 12, 15), (10, 24, 26), (12, 5, 13), (12, 9, 15), (12, 16, 20), (15, 8, 17), (15, 20, 25), (16, 12, 20), (20, 15, 25), (24, 7, 25), (24, 10, 26)]\n"
     ]
    }
   ],
   "source": [
    "n=int(input(\"Enter the upper limit : \"))\n",
    "pythagorean_triplets=[(a,b,c) for a in range(1,n+1) for b in range(1,n+1) for c in range(1,n+1) if (a**2)+(b**2)==(c**2)]\n",
    "print(pythagorean_triplets)"
   ]
  },
  {
   "cell_type": "code",
   "execution_count": 91,
   "id": "df468d6e-f341-4122-a8f5-262ccbb76731",
   "metadata": {},
   "outputs": [],
   "source": [
    "# 33. Develop a program that generates a list of all possible combinations of two lists using list comprehension."
   ]
  },
  {
   "cell_type": "code",
   "execution_count": 92,
   "id": "d1ea6b0d-3545-4429-a6d3-762b7c9aebd5",
   "metadata": {},
   "outputs": [
    {
     "name": "stdout",
     "output_type": "stream",
     "text": [
      "[('b', 1), ('b', 4), ('b', 9), ('c', 1), ('c', 4), ('c', 9), ('d', 1), ('d', 4), ('d', 9)]\n"
     ]
    }
   ],
   "source": [
    "list_1 = [\"b\", \"c\", \"d\"]\n",
    "list_2 = [1, 4, 9]\n",
    "unique_combinations = [(i, j) for i in list_1 for j in list_2   ]\n",
    "print(unique_combinations)"
   ]
  },
  {
   "cell_type": "code",
   "execution_count": null,
   "id": "b5f83ed5-4737-4ce1-81d3-c87c46d4d8d3",
   "metadata": {},
   "outputs": [],
   "source": []
  },
  {
   "cell_type": "code",
   "execution_count": 93,
   "id": "60cc692d-7a47-4691-8304-446c0aaed455",
   "metadata": {},
   "outputs": [],
   "source": [
    "# 34. Write a program that calculates the mean, median, and mode of a list of numbers using list comprehension."
   ]
  },
  {
   "cell_type": "code",
   "execution_count": 1,
   "id": "8dffc313-46f7-44af-8bb8-9630ba0754ec",
   "metadata": {
    "tags": []
   },
   "outputs": [
    {
     "name": "stdout",
     "output_type": "stream",
     "text": [
      " Mean  is:  4.111111111111111 \n",
      " Median is: 5 \n",
      "Mode is/are : 5\n"
     ]
    }
   ],
   "source": [
    "# list of elements to calculate mean\n",
    "n_num = [1, 2, 3, 4, 5,5,5,6,6]\n",
    "n = len(n_num)\n",
    "\n",
    "get_sum = sum(n_num)\n",
    "mean = get_sum / n\n",
    "\n",
    "print(f\" Mean  is:  {mean} \" )\n",
    "\n",
    "\n",
    "# median of elements\n",
    "\n",
    "# list of elements to calculate median\n",
    "if n % 2 == 0:\n",
    "\tmedian1 = n_num[n//2]\n",
    "\tmedian2 = n_num[n//2 - 1]\n",
    "\tmedian = (median1 + median2)/2\n",
    "else:\n",
    "\tmedian = n_num[n//2]\n",
    "print(f\" Median is: {median} \" )\n",
    "\n",
    "\n",
    "# mode of elements\n",
    "from collections import Counter\n",
    "\n",
    "# list of elements to calculate mode\n",
    "data = Counter(n_num)\n",
    "get_mode = dict(data)\n",
    "mode = [k for k, v in get_mode.items() if v == max(list(data.values()))]\n",
    "\n",
    "if len(mode) == n:\n",
    "\tget_mode = \"No mode found\"\n",
    "else:\n",
    "\tget_mode = \"Mode is/are : \" + ', '.join(map(str, mode))\n",
    "print(get_mode)\n"
   ]
  },
  {
   "cell_type": "code",
   "execution_count": null,
   "id": "1e4fbed9-a4a7-4f6e-9772-3d05e47ac76b",
   "metadata": {},
   "outputs": [],
   "source": []
  },
  {
   "cell_type": "code",
   "execution_count": 98,
   "id": "f5731e77-118c-4bbc-b49a-c77530b90771",
   "metadata": {
    "tags": []
   },
   "outputs": [],
   "source": [
    "# 35. Create a program that generates Pascal's triangle up to a specified number of rows using list comprehension."
   ]
  },
  {
   "cell_type": "code",
   "execution_count": 99,
   "id": "4add4924-962a-4637-a1d4-367b5c67033f",
   "metadata": {},
   "outputs": [
    {
     "name": "stdin",
     "output_type": "stream",
     "text": [
      "Please enter the number of rows: 5\n"
     ]
    },
    {
     "name": "stdout",
     "output_type": "stream",
     "text": [
      "      1 \n",
      "     1 1 \n",
      "    1 2 1 \n",
      "   1 3 3 1 \n",
      "  1 4 6 4 1 \n"
     ]
    }
   ],
   "source": [
    "from math import factorial\n",
    " \n",
    "rows = int(input(\"Please enter the number of rows:\"))\n",
    "for i in range(rows):\n",
    "    for j in range(rows-i+1):\n",
    " \n",
    "  # Leaving spaces on the left side.\n",
    "\n",
    "        print(end=\" \")\n",
    " \n",
    "    for j in range(i+1):\n",
    " \n",
    "  # nCr formula ====> nCr = n!/((n-r)!*r!)\n",
    "        print(factorial(i)//(factorial(j)*factorial(i-j)), end=\" \")\n",
    " \n",
    "  # for printing a new line\n",
    "    print()\n",
    "    \n"
   ]
  },
  {
   "cell_type": "code",
   "execution_count": null,
   "id": "6968e29f-dc0d-4594-bdc1-5386806f310c",
   "metadata": {},
   "outputs": [],
   "source": []
  },
  {
   "cell_type": "code",
   "execution_count": 100,
   "id": "746a3d6a-6a28-4558-8878-15e8c2211bf0",
   "metadata": {},
   "outputs": [],
   "source": [
    "# 36. Develop a program that calculates the sum of the digits of a factorial of numbers from 1 to 5 using list comprehension"
   ]
  },
  {
   "cell_type": "code",
   "execution_count": null,
   "id": "acc89e5e-1730-417c-bf08-98f9aa20baab",
   "metadata": {},
   "outputs": [],
   "source": []
  },
  {
   "cell_type": "code",
   "execution_count": null,
   "id": "818f153c-eac8-48cf-8db9-1a49cc172977",
   "metadata": {},
   "outputs": [],
   "source": []
  },
  {
   "cell_type": "code",
   "execution_count": null,
   "id": "c8db5685-514f-469f-9a73-9e1fecab98d4",
   "metadata": {},
   "outputs": [],
   "source": [
    "# 37. Write a program that finds the longest word in a sentence using list comprehension."
   ]
  },
  {
   "cell_type": "code",
   "execution_count": null,
   "id": "c211d2f9-18d3-4f9d-873d-902961967810",
   "metadata": {},
   "outputs": [],
   "source": []
  },
  {
   "cell_type": "code",
   "execution_count": 102,
   "id": "4bc275fe-7f77-4da3-b770-85cae627a197",
   "metadata": {},
   "outputs": [
    {
     "name": "stdout",
     "output_type": "stream",
     "text": [
      "comprehension\n"
     ]
    }
   ],
   "source": [
    "sentence=\"This is one of the  trickiest problem of python in which  we have to find the longest word in a sentence using list comprehension \"\n",
    "b=sentence.split()\n",
    "words=[x for x in b   ]\n",
    "length=[len(e) for e in words]\n",
    "\n",
    "\n",
    "dict_list={k:v for k,v in zip(length,words)} \n",
    "\n",
    "print(dict_list[max(dict_list)])"
   ]
  },
  {
   "cell_type": "code",
   "execution_count": null,
   "id": "9f545bdc-7e2c-45e2-9f29-5737d41195c6",
   "metadata": {},
   "outputs": [],
   "source": []
  },
  {
   "cell_type": "code",
   "execution_count": null,
   "id": "4880303b-8b05-4dc9-91ba-4fa967119156",
   "metadata": {},
   "outputs": [],
   "source": [
    "# 38. Create a program that filters a list of strings to include only those with more than three vowels using list  comprehension."
   ]
  },
  {
   "cell_type": "code",
   "execution_count": null,
   "id": "ae0fe905-4d30-4204-b051-bf8d55e1a25f",
   "metadata": {},
   "outputs": [],
   "source": []
  },
  {
   "cell_type": "code",
   "execution_count": 104,
   "id": "705c8707-c9de-4b80-b760-fa96d1d11841",
   "metadata": {},
   "outputs": [
    {
     "name": "stdout",
     "output_type": "stream",
     "text": [
      "['OooOps', 'Iterate', 'cOmprehEnsIon']\n"
     ]
    }
   ],
   "source": [
    "strings=[\"OooOps\",\"Python\",\"Often\",\"Iterate\",\"function\",\"playing\",\"cOmprehEnsIon\"]\n",
    "new_list=[x for x in strings if x.count(\"a\")+x.count(\"e\")+x.count(\"i\")+x.count(\"o\")+x.count(\"u\")+x.count(\"A\")+x.count(\"E\")+x.count(\"I\")+x.count(\"O\")+x.count(\"U\") >3 ]\n",
    "print(new_list)"
   ]
  },
  {
   "cell_type": "code",
   "execution_count": 105,
   "id": "1a70a01b-1006-4e60-ae57-62ed7986228b",
   "metadata": {},
   "outputs": [],
   "source": [
    "# 39. Develop a program that calculates the sum of the digits of numbers from 1 to 1000 using list comprehension."
   ]
  },
  {
   "cell_type": "code",
   "execution_count": 106,
   "id": "51c0e30a-137b-426a-8a7a-8e66b4d957eb",
   "metadata": {},
   "outputs": [
    {
     "name": "stdout",
     "output_type": "stream",
     "text": [
      "500500\n"
     ]
    }
   ],
   "source": [
    "sums=[ i for i in range(1, 1001) ]\n",
    "print(sum(sums))"
   ]
  },
  {
   "cell_type": "code",
   "execution_count": null,
   "id": "29589eaf-40eb-4a01-891c-200c73e325e3",
   "metadata": {},
   "outputs": [],
   "source": []
  },
  {
   "cell_type": "code",
   "execution_count": 4,
   "id": "ce7c5595-9b61-4964-8f8e-c3489e22c443",
   "metadata": {},
   "outputs": [],
   "source": [
    "# 40. Write a program that generates a list of prime palindromic numbers using list comprehension."
   ]
  },
  {
   "cell_type": "code",
   "execution_count": null,
   "id": "010ef968-586a-4252-babf-105cebd71a75",
   "metadata": {},
   "outputs": [],
   "source": []
  },
  {
   "cell_type": "code",
   "execution_count": 6,
   "id": "f40d86d7-f0c9-4876-8c6d-27bee11e8ab0",
   "metadata": {},
   "outputs": [
    {
     "name": "stdin",
     "output_type": "stream",
     "text": [
      "Enter the upper limit:  400\n"
     ]
    },
    {
     "name": "stdout",
     "output_type": "stream",
     "text": [
      "[2, 3, 5, 7, 11, 101, 131, 151, 181, 191, 313, 353, 373, 383]\n"
     ]
    }
   ],
   "source": [
    "n=int(input(\"Enter the upper limit: \"))\n",
    "pmlist=[x for x in range(2,n+1) if all(x % y for y in range(2, x//1)) if str(x)==str(x)[::-1] ]\n",
    "print(pmlist) \n"
   ]
  },
  {
   "cell_type": "code",
   "execution_count": null,
   "id": "41b09835-6223-4ac5-8306-5e6700ea17e9",
   "metadata": {
    "tags": []
   },
   "outputs": [],
   "source": []
  },
  {
   "cell_type": "code",
   "execution_count": null,
   "id": "0640a0e9-7218-4a02-aff2-35d18491aecd",
   "metadata": {
    "tags": []
   },
   "outputs": [],
   "source": []
  },
  {
   "cell_type": "code",
   "execution_count": null,
   "id": "6c44571f-0b11-44e1-b85d-d9b3b114d034",
   "metadata": {},
   "outputs": [],
   "source": []
  },
  {
   "cell_type": "code",
   "execution_count": null,
   "id": "8e97abef-7e29-4070-8036-128e82dd71a9",
   "metadata": {},
   "outputs": [],
   "source": []
  },
  {
   "cell_type": "code",
   "execution_count": null,
   "id": "16fd5301-de0f-4501-b85f-127c6e49c45e",
   "metadata": {},
   "outputs": [],
   "source": []
  },
  {
   "cell_type": "code",
   "execution_count": null,
   "id": "e5cef934-7d7f-4887-9029-c2bbe19fa8e5",
   "metadata": {},
   "outputs": [],
   "source": []
  },
  {
   "cell_type": "code",
   "execution_count": null,
   "id": "3b941390-0ca0-46fc-9a50-5f68f33db153",
   "metadata": {},
   "outputs": [],
   "source": []
  },
  {
   "cell_type": "code",
   "execution_count": null,
   "id": "daca774b-0c38-4c45-9a7d-7dd0ca391363",
   "metadata": {},
   "outputs": [],
   "source": []
  },
  {
   "cell_type": "code",
   "execution_count": null,
   "id": "88e52ccc-9f01-4e93-8913-450db468725e",
   "metadata": {},
   "outputs": [],
   "source": []
  },
  {
   "cell_type": "code",
   "execution_count": null,
   "id": "afb1fefa-3331-4480-8f29-5ae49b86408d",
   "metadata": {},
   "outputs": [],
   "source": []
  },
  {
   "cell_type": "code",
   "execution_count": null,
   "id": "c48991ef-618e-4c5e-9be0-65db978137e1",
   "metadata": {},
   "outputs": [],
   "source": []
  },
  {
   "cell_type": "code",
   "execution_count": null,
   "id": "4d21d9b0-c0b9-409b-b38a-4f8139be5349",
   "metadata": {},
   "outputs": [],
   "source": []
  },
  {
   "cell_type": "code",
   "execution_count": null,
   "id": "de0a1158-5d49-42e0-a53f-10654a4c6f23",
   "metadata": {},
   "outputs": [],
   "source": []
  },
  {
   "cell_type": "code",
   "execution_count": null,
   "id": "c4ad313d-4232-45a8-a0d9-1a674b74eef8",
   "metadata": {},
   "outputs": [],
   "source": []
  },
  {
   "cell_type": "code",
   "execution_count": null,
   "id": "a7fe8a28-8dbf-44a3-9eea-2f579354d611",
   "metadata": {},
   "outputs": [],
   "source": []
  },
  {
   "cell_type": "code",
   "execution_count": null,
   "id": "0ac4f193-be88-4768-937d-5d8d98b67c37",
   "metadata": {},
   "outputs": [],
   "source": []
  },
  {
   "cell_type": "code",
   "execution_count": null,
   "id": "57226c35-b040-4956-a9e8-625895644f70",
   "metadata": {},
   "outputs": [],
   "source": []
  },
  {
   "cell_type": "code",
   "execution_count": null,
   "id": "95ef0597-154d-4014-a164-4eb6d6186d61",
   "metadata": {},
   "outputs": [],
   "source": []
  },
  {
   "cell_type": "code",
   "execution_count": null,
   "id": "123ca492-c537-4f64-b4a8-93167713314f",
   "metadata": {},
   "outputs": [],
   "source": []
  },
  {
   "cell_type": "code",
   "execution_count": null,
   "id": "54bbba2c-b166-40b6-8605-b08a51ae444c",
   "metadata": {},
   "outputs": [],
   "source": []
  },
  {
   "cell_type": "code",
   "execution_count": null,
   "id": "e24f3b50-cf95-4a09-a952-5829cc498377",
   "metadata": {},
   "outputs": [],
   "source": []
  },
  {
   "cell_type": "code",
   "execution_count": null,
   "id": "87d0a8a2-59de-4112-8aea-e9b0a0972444",
   "metadata": {},
   "outputs": [],
   "source": []
  },
  {
   "cell_type": "code",
   "execution_count": null,
   "id": "0b5e0236-dd0a-454b-8dd8-48a6d494fe4f",
   "metadata": {},
   "outputs": [],
   "source": []
  },
  {
   "cell_type": "code",
   "execution_count": null,
   "id": "a67baba4-aaeb-426d-a83e-d63cd8671fad",
   "metadata": {},
   "outputs": [],
   "source": []
  },
  {
   "cell_type": "code",
   "execution_count": null,
   "id": "e0b2f77d-4c5d-41ca-860d-ca36b48cd8d6",
   "metadata": {},
   "outputs": [],
   "source": []
  },
  {
   "cell_type": "code",
   "execution_count": null,
   "id": "f9f705c2-af5f-4ac7-9281-d3aeda18beb9",
   "metadata": {},
   "outputs": [],
   "source": []
  },
  {
   "cell_type": "code",
   "execution_count": null,
   "id": "663a874c-384e-4768-ab65-474f481dce19",
   "metadata": {},
   "outputs": [],
   "source": []
  },
  {
   "cell_type": "code",
   "execution_count": null,
   "id": "c0dbef93-bca8-4038-b85a-c31b346f5f6e",
   "metadata": {},
   "outputs": [],
   "source": []
  },
  {
   "cell_type": "code",
   "execution_count": null,
   "id": "c5403dc4-0713-447c-afa2-5273b43e7425",
   "metadata": {},
   "outputs": [],
   "source": []
  },
  {
   "cell_type": "code",
   "execution_count": null,
   "id": "54b1593c-7e60-4a18-96a5-b21c0197f11f",
   "metadata": {},
   "outputs": [],
   "source": []
  },
  {
   "cell_type": "code",
   "execution_count": null,
   "id": "23bf4a2a-8565-40c4-84d6-174cea3aeb34",
   "metadata": {},
   "outputs": [],
   "source": []
  },
  {
   "cell_type": "code",
   "execution_count": null,
   "id": "26e79b3f-337b-476e-9deb-6b0b0a07db1e",
   "metadata": {},
   "outputs": [],
   "source": []
  },
  {
   "cell_type": "code",
   "execution_count": null,
   "id": "0c64210c-a2ec-47ec-8f06-04ce6ed93e9e",
   "metadata": {},
   "outputs": [],
   "source": []
  },
  {
   "cell_type": "code",
   "execution_count": null,
   "id": "03184535-fdb2-43be-ac64-d6b2d3b29075",
   "metadata": {},
   "outputs": [],
   "source": []
  },
  {
   "cell_type": "code",
   "execution_count": null,
   "id": "55a29d0e-d5f0-453e-83c6-1585730ffd93",
   "metadata": {},
   "outputs": [],
   "source": []
  },
  {
   "cell_type": "code",
   "execution_count": null,
   "id": "af4fd292-f094-4eac-9772-7f4acac0215d",
   "metadata": {},
   "outputs": [],
   "source": []
  },
  {
   "cell_type": "code",
   "execution_count": null,
   "id": "1af626ee-5136-4857-a2b3-3e4aaefd1e68",
   "metadata": {},
   "outputs": [],
   "source": []
  },
  {
   "cell_type": "code",
   "execution_count": null,
   "id": "64cbd4de-f71a-44b3-b5c2-d6e5a0d60f02",
   "metadata": {},
   "outputs": [],
   "source": []
  },
  {
   "cell_type": "code",
   "execution_count": null,
   "id": "110c4682-f8f1-40a0-85ee-93185f9773be",
   "metadata": {},
   "outputs": [],
   "source": []
  },
  {
   "cell_type": "code",
   "execution_count": null,
   "id": "edf0c6fc-b995-42ca-971c-049eb33d65cb",
   "metadata": {},
   "outputs": [],
   "source": []
  },
  {
   "cell_type": "code",
   "execution_count": null,
   "id": "dacaf8c3-829e-4e5e-ab67-e74291822117",
   "metadata": {},
   "outputs": [],
   "source": []
  },
  {
   "cell_type": "code",
   "execution_count": null,
   "id": "c00ddf94-2ad3-484a-87b8-1bac2b567448",
   "metadata": {},
   "outputs": [],
   "source": []
  },
  {
   "cell_type": "code",
   "execution_count": null,
   "id": "a294fe2c-653f-4c02-b1e5-49b2d508ef2e",
   "metadata": {},
   "outputs": [],
   "source": []
  },
  {
   "cell_type": "code",
   "execution_count": null,
   "id": "e341ff3f-8221-4f66-afff-d1c7bde235bc",
   "metadata": {},
   "outputs": [],
   "source": []
  },
  {
   "cell_type": "code",
   "execution_count": null,
   "id": "16ad6587-4691-476d-8867-2b20a4426d8e",
   "metadata": {},
   "outputs": [],
   "source": []
  },
  {
   "cell_type": "code",
   "execution_count": null,
   "id": "99097d3f-c1fb-49ae-a66f-1702e15c33c8",
   "metadata": {},
   "outputs": [],
   "source": []
  },
  {
   "cell_type": "code",
   "execution_count": null,
   "id": "8a5d040b-1497-46dd-9b3b-d2fa2d4085d1",
   "metadata": {},
   "outputs": [],
   "source": []
  },
  {
   "cell_type": "code",
   "execution_count": null,
   "id": "bbfa0798-6ac5-48d9-9cb2-fd081c3b76a0",
   "metadata": {},
   "outputs": [],
   "source": []
  },
  {
   "cell_type": "code",
   "execution_count": null,
   "id": "7beeac65-3ca5-415a-b58a-d98e06a7297c",
   "metadata": {},
   "outputs": [],
   "source": []
  },
  {
   "cell_type": "code",
   "execution_count": null,
   "id": "78d4d78e-0039-4171-b568-f1f2f585b7db",
   "metadata": {},
   "outputs": [],
   "source": []
  },
  {
   "cell_type": "code",
   "execution_count": null,
   "id": "bac6ba54-ca08-4a02-b78a-c1f319b16cbc",
   "metadata": {},
   "outputs": [],
   "source": []
  },
  {
   "cell_type": "code",
   "execution_count": null,
   "id": "05217eb9-e656-4492-b76b-fb9b9549709f",
   "metadata": {},
   "outputs": [],
   "source": []
  },
  {
   "cell_type": "code",
   "execution_count": null,
   "id": "131867dc-46c3-4ee6-8954-c9167ab72336",
   "metadata": {},
   "outputs": [],
   "source": []
  },
  {
   "cell_type": "code",
   "execution_count": null,
   "id": "7828728c-a094-47e9-b89d-e5e4973e5152",
   "metadata": {},
   "outputs": [],
   "source": []
  },
  {
   "cell_type": "code",
   "execution_count": null,
   "id": "152338eb-701f-42f3-ad1a-2a7033f25da8",
   "metadata": {},
   "outputs": [],
   "source": []
  }
 ],
 "metadata": {
  "kernelspec": {
   "display_name": "Python 3 (ipykernel)",
   "language": "python",
   "name": "python3"
  },
  "language_info": {
   "codemirror_mode": {
    "name": "ipython",
    "version": 3
   },
   "file_extension": ".py",
   "mimetype": "text/x-python",
   "name": "python",
   "nbconvert_exporter": "python",
   "pygments_lexer": "ipython3",
   "version": "3.10.8"
  }
 },
 "nbformat": 4,
 "nbformat_minor": 5
}
